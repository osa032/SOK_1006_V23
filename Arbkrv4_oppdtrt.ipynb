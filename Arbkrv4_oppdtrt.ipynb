{
 "cells": [
  {
   "cell_type": "markdown",
   "id": "ff3f6d13-b61c-42dc-90fc-260e18ffcb61",
   "metadata": {},
   "source": [
    "# SOK-1006 V23\n",
    "\n",
    "## Forelesning 7 - Produksjon: Teknologi"
   ]
  },
  {
   "cell_type": "markdown",
   "id": "0e90bc71-9e28-4489-a9d9-768a8bb6b692",
   "metadata": {},
   "source": [
    "### 1. Forutsetninger\n",
    "\n",
    "Vi forutsetter følgende om bedriftene som vi analyserer:\n",
    "\n",
    "- Bedriften produserer ett homogent produkt\n",
    "- Produksjonen kan måles\n",
    "- Bedriften bruker to produksjonsfaktorer (arbeidskraft og kapital)\n",
    "- Produksjonsfaktorer er homogene, målbare, og har faste gitte priser\n",
    "- Forholdet mellom innsatsfaktorer og ferdigprodukt representeres med en produktfunksjon\n",
    "- Produsenten tar produktprisen for gitt\n",
    "- Produsentens mål er å maksimere fortjeneste\n",
    "\n",
    "**Oppgave**      \n",
    "*Tenk over hvor rimelig disse forutsetningene er.*"
   ]
  },
  {
   "cell_type": "markdown",
   "id": "3a8db973-7876-4d8a-96f0-b56809113ee9",
   "metadata": {},
   "source": [
    "### 2. Produktfunksjonen\n",
    "\n",
    "Generelt kan vi skrive at kvantum produsert (x) er en funksjon av alle produksjonsfaktorer brukt i prosessen. Bruker bedriften arbeidskraft (N) og kapital (K) vil produktfunksjonen være\n",
    "$$ x = f(N, K).$$\n",
    "\n",
    "På *kort sikt* vil én eller flere faktorer være fast, mens på *lang sikt* kan bedriften tilpasse alle innsatsfaktorer. La oss tenke oss at mengde kapital er fast ved nivå $K_0$ på kort sikt. Da vil produktfunksjonen på kort sikt være\n",
    "$$ x = f(N, K_0).$$\n",
    "\n",
    "Dette kan tegnes i to dimensjoner gitt verdien på kapital. Se Figur 4.1 a-b s. 121.\n",
    "\n",
    "Utfra et gitt utgangspunkt vil *grenseproduktiviteten* måle hvor mye ekstra som produseres dersom forbruk av den variable faktoren økes:\n",
    "$$\\frac{\\partial x}{\\partial N}=f'_N > 0.$$\n",
    "\n",
    "Vi ser at dette er et positivt tall, ettersom bedriften må produsere på en teknisk effektiv måte, dvs de vil ikke bruke mer innsatsfaktorer enn nødvendig. Fra figuren ser vi også at verdien på dette tallet blir mindre jo mer arbeidskraft som brukes. Dette er loven om avtakende grenseproduktivitet.     \n",
    "\n",
    "Et annet viktig mål i produksjonen er hvor mye hver enhet av en innsatsfaktor produserer i gjennomsnitt, dvs *gjennomsnittsproduktiviteten* git ved\n",
    "$$\\frac{x}{N}=\\frac{f(N,K_0)}{N}.$$\n",
    "\n",
    "Dette måles som helningen til en stråle fra origo til et bestemt punkt på produktfunksjonen (se Fig 4.1)."
   ]
  },
  {
   "cell_type": "markdown",
   "id": "55f5fc1d-f280-4fa7-b345-1a1fa6f15b0c",
   "metadata": {},
   "source": [
    "#### 2.1 Et eksempel\n",
    "\n",
    "Produksjon i en bedrift er gitt ved:   \n",
    "\n",
    "\\begin{equation}\n",
    "   x=f(N,K)=K\\frac{e^N}{A+e^N}\\tag{1}\n",
    "\\end{equation}\n",
    "\n",
    "\n",
    "hvor $N$ er enheter arbeidskraft (målt i timer), $K$ er enheter kapital og $A>0$ er et konstant tall.   \n",
    "$e$ er Eulers tall (ca. 2,7 1828 1828). På kort sikt er $K=1000$, og $A=200$.   \n",
    "Vi skal tegne produktfunksjonen på kort sikt for $10\\geq N\\geq 1$.   \n"
   ]
  },
  {
   "cell_type": "code",
   "execution_count": 1,
   "id": "e89c431c-b069-48f3-83bc-7ee26fed10d7",
   "metadata": {},
   "outputs": [],
   "source": [
    "# importer pakkene som vi trenger\n",
    "import numpy as np\n",
    "from matplotlib import pyplot as plt\n",
    "import sympy as sp"
   ]
  },
  {
   "cell_type": "code",
   "execution_count": 2,
   "id": "f2d4d207-48da-4b79-99b5-8252effe9ce2",
   "metadata": {},
   "outputs": [],
   "source": [
    "# definer symboler\n",
    "N, A = sp.symbols('N A', positive=True, real=True)"
   ]
  },
  {
   "cell_type": "markdown",
   "id": "f63116d4-e41f-4be2-ba88-8c13dc0c8959",
   "metadata": {},
   "source": [
    "Vi har med en eksponensialfunksjon å gjøre. Hvis vi vil regne på denne bruker vi sympyversjonen av denne funksjonen `sp.exp()`. Hvis vi vil tegne den bruker vi numpy utgaven `np.exp()`. For å kunne definere én funksjon som veksler mellom disse to versjonene kan vi bake \"type funksjon\" inn i definisjonen:"
   ]
  },
  {
   "cell_type": "code",
   "execution_count": 3,
   "id": "aa1536a2-5ffb-4a71-9710-5555598893d2",
   "metadata": {},
   "outputs": [
    {
     "data": {
      "text/latex": [
       "$\\displaystyle \\frac{1000 e^{N}}{A + e^{N}}$"
      ],
      "text/plain": [
       "1000*exp(N)/(A + exp(N))"
      ]
     },
     "execution_count": 3,
     "metadata": {},
     "output_type": "execute_result"
    }
   ],
   "source": [
    "# Vi definerer produktfn\n",
    "\n",
    "def prod(c,N,A):\n",
    "    produksjon=1000*(c.exp(N)/(A+c.exp(N)))\n",
    "    return produksjon\n",
    "prod(sp,N,A)"
   ]
  },
  {
   "cell_type": "markdown",
   "id": "60b572c0-9a0d-40fe-88a1-2e387584cee8",
   "metadata": {},
   "source": [
    "Variablen \"c\" tar verdi sp dersom vi bruker sympy utgaven, og np om vi vil bruke numpy."
   ]
  },
  {
   "cell_type": "code",
   "execution_count": 4,
   "id": "db9b076c-ed6e-4aab-899b-38bdbf8492af",
   "metadata": {},
   "outputs": [
    {
     "data": {
      "image/png": "[encoded data removed]",
      "text/plain": [
       "<Figure size 432x288 with 1 Axes>"
      ]
     },
     "metadata": {
      "needs_background": "light"
     },
     "output_type": "display_data"
    }
   ],
   "source": [
    "n=np.linspace(1,10,100)\n",
    "\n",
    "fig1, ax = plt.subplots()\n",
    "ax.set_ylabel('Kvantum (x)', loc='top')\n",
    "ax.set_xlabel('Enheter arbeidskraft (N)', loc='right')\n",
    "ax.set(xlim=(1,10))\n",
    "ax.set(ylim=(0,1000))\n",
    "ax.spines['top'].set_color('none')\n",
    "ax.spines['right'].set_color('none')\n",
    "                \n",
    "\n",
    "# plott funksjonen\n",
    "\n",
    "ax.plot(n, prod(np,n,200), label='produktfn')\n",
    "\n",
    "\n",
    "# tittel\n",
    "ax.set_title('Produksjon på kort sikt')\n",
    "\n",
    "#vis navnene:\n",
    "ax.legend(loc='best',frameon=False);"
   ]
  },
  {
   "cell_type": "markdown",
   "id": "950ec8a5-a2c9-4333-ba35-d018128645ac",
   "metadata": {},
   "source": [
    "**Oppgave**\n",
    "\n",
    "*Beregn gjennomsnitts- og grenseproduktiviteten til arbeidskraft for produktfunksjon (1), og tegn disse i en figur. Forklar figuren. For hvilken verdi av $N$ er grenseproduktiviteten høyest?  (Hint: husk hvordan vi tegnet sympy uttrykk i matplotlib ved å bruke `sp.lambdify()` i forelesning 5).*"
   ]
  },
  {
   "cell_type": "code",
   "execution_count": 4,
   "id": "3156ef67",
   "metadata": {},
   "outputs": [],
   "source": [
    "# importer pakkene som vi trenger\n",
    "import numpy as np\n",
    "from matplotlib import pyplot as plt\n",
    "import sympy as sp\n",
    "\n",
    "# definer symboler\n",
    "N, A = sp.symbols('N A', positive=True, real=True)"
   ]
  },
  {
   "cell_type": "code",
   "execution_count": 14,
   "id": "488b6c5d-0348-4e34-9cf8-15b9face2809",
   "metadata": {},
   "outputs": [],
   "source": [
    "# definerer funksjoner\n",
    "\n",
    "def prod(N, A):\n",
    "    return 1000 * (sp.exp(N)/ (A + sp.exp(N)))\n",
    "\n",
    "def prod_diff(N, A):\n",
    "    return sp.diff(prod(N, A), N)\n",
    "\n",
    "def prod_avg(N, A):\n",
    "    return prod(N, A)/ N"
   ]
  },
  {
   "cell_type": "code",
   "execution_count": 15,
   "id": "f4c9469d",
   "metadata": {},
   "outputs": [],
   "source": [
    "# lambdify\n",
    "\n",
    "prod_l = sp.lambdify(\n",
    "    (N, A),\n",
    "    prod(N, A)\n",
    ")\n",
    "\n",
    "prod_diff_l = sp.lambdify(\n",
    "    (N, A),\n",
    "    prod_diff(N, A)\n",
    ")\n",
    "\n",
    "prod_avg_l = sp.lambdify(\n",
    "    (N, A),\n",
    "    prod_avg(N, A)\n",
    ")"
   ]
  },
  {
   "cell_type": "code",
   "execution_count": 18,
   "id": "3f3bd929",
   "metadata": {},
   "outputs": [
    {
     "data": {
      "image/png": "[encoded data removed]",
      "text/plain": [
       "<Figure size 640x480 with 1 Axes>"
      ]
     },
     "metadata": {},
     "output_type": "display_data"
    }
   ],
   "source": [
    "#Genererer akse, kode hentet fra \"notater forelesning 7\"\n",
    "\n",
    "n=np.linspace(1,10,100)\n",
    "\n",
    "fig, ax = plt.subplots()\n",
    "ax.set_ylabel('Kvantum (x)', loc='top')\n",
    "ax.set_xlabel('Enheter arbeidskraft (N)', loc='right')\n",
    "ax.set(xlim=(1,10))\n",
    "ax.set(ylim=(0,1000))\n",
    "ax.spines['top'].set_color('none')\n",
    "ax.spines['right'].set_color('none')\n",
    "\n",
    "\n",
    "#legger til linjer\n",
    "ax.plot(n, prod_diff_l(n,100), label=\"Differanse\")\n",
    "ax.plot(n, prod_l(n, 100), label=\"Produktfunksjon\")\n",
    "ax.plot(n, prod_avg_l(n, 100), label=\"Gjennomsnitt\")\n",
    "\n",
    "ax.legend(loc='best',frameon=False);\n",
    "\n"
   ]
  },
  {
   "cell_type": "markdown",
   "id": "d232c94d-e9ce-4077-9c31-b16725b2719b",
   "metadata": {},
   "source": [
    "I dette eksempelet kan vi kapre *teknologisk fremgang* gjennom en reduksjon i A til for eksempel 100."
   ]
  },
  {
   "cell_type": "code",
   "execution_count": 5,
   "id": "e5dcf0da-3a7d-4daf-b681-ae13e9da480c",
   "metadata": {},
   "outputs": [
    {
     "data": {
      "image/png": "[encoded data removed]",
      "text/plain": [
       "<Figure size 432x288 with 1 Axes>"
      ]
     },
     "execution_count": 5,
     "metadata": {},
     "output_type": "execute_result"
    }
   ],
   "source": [
    "ax.plot(n, prod(np,n,100), label='ny produktfn')\n",
    "ax.legend(loc='best',frameon=False)\n",
    "fig1"
   ]
  },
  {
   "cell_type": "markdown",
   "id": "7eea80fb-7b7e-4f9e-9a86-fd07ea8e7a8d",
   "metadata": {},
   "source": [
    "Vi kan tegne økningen i produksjon for hvert nivå på N."
   ]
  },
  {
   "cell_type": "code",
   "execution_count": 6,
   "id": "bd91cff1-33a9-4c51-a18a-7661ce9bd0d3",
   "metadata": {},
   "outputs": [],
   "source": [
    "# økning i produksjon fra å ta i bruk den nye teknologien\n",
    "def increase(c,N):\n",
    "    return (prod(c,N,100)-prod(c,N,200))"
   ]
  },
  {
   "cell_type": "code",
   "execution_count": 7,
   "id": "24c648b1-fd3d-4c5a-8f6f-a7918277a58e",
   "metadata": {},
   "outputs": [
    {
     "data": {
      "image/png": "[encoded data removed]",
      "text/plain": [
       "<Figure size 432x288 with 1 Axes>"
      ]
     },
     "execution_count": 7,
     "metadata": {},
     "output_type": "execute_result"
    }
   ],
   "source": [
    "ax.plot(n, increase(np,n), label='Økning i produksjon')\n",
    "ax.legend(loc='best',frameon=False)\n",
    "fig1"
   ]
  },
  {
   "cell_type": "markdown",
   "id": "9554978a-626a-4ae3-a967-20c57facb2c9",
   "metadata": {},
   "source": [
    "Vi ser at det er et toppunkt vi kan regne på.........."
   ]
  },
  {
   "cell_type": "code",
   "execution_count": 8,
   "id": "af6ae985-358c-478b-a53a-e30f271118dd",
   "metadata": {},
   "outputs": [
    {
     "data": {
      "text/latex": [
       "$\\displaystyle \\frac{100000 \\cdot \\left(20000 - e^{2 N}\\right) e^{N}}{e^{4 N} + 600 e^{3 N} + 130000 e^{2 N} + 12000000 e^{N} + 400000000}$"
      ],
      "text/plain": [
       "100000*(20000 - exp(2*N))*exp(N)/(exp(4*N) + 600*exp(3*N) + 130000*exp(2*N) + 12000000*exp(N) + 400000000)"
      ]
     },
     "execution_count": 8,
     "metadata": {},
     "output_type": "execute_result"
    }
   ],
   "source": [
    "increase_d=sp.simplify(sp.diff(increase(sp,N),N))\n",
    "increase_d"
   ]
  },
  {
   "cell_type": "code",
   "execution_count": 9,
   "id": "5e363df1-82ca-44d7-84d1-b72a2db28eef",
   "metadata": {},
   "outputs": [
    {
     "data": {
      "text/latex": [
       "$\\displaystyle \\log{\\left(100 \\sqrt{2} \\right)}$"
      ],
      "text/plain": [
       "log(100*sqrt(2))"
      ]
     },
     "execution_count": 9,
     "metadata": {},
     "output_type": "execute_result"
    }
   ],
   "source": [
    "sol=sp.solve(increase_d,N)[0]\n",
    "sol\n",
    "# dette gir N som maksimerer produksjonssøkningen"
   ]
  },
  {
   "cell_type": "markdown",
   "id": "e2ddff26-73ef-4372-aed0-72e498c3c72f",
   "metadata": {},
   "source": [
    "Det kan være greit å konvertere dette til et desimaltall:"
   ]
  },
  {
   "cell_type": "code",
   "execution_count": 10,
   "id": "82676f54-3261-48ef-994c-ea169cf41d1e",
   "metadata": {},
   "outputs": [
    {
     "data": {
      "text/plain": [
       "4.951743776268064"
      ]
     },
     "execution_count": 10,
     "metadata": {},
     "output_type": "execute_result"
    }
   ],
   "source": [
    "float(sol)"
   ]
  },
  {
   "cell_type": "markdown",
   "id": "c75dd4e6-e1d4-4707-8156-828b57cce518",
   "metadata": {},
   "source": [
    "For å få størst økning fra den nye teknologien må bedriften bruke 4.95 enheter arbeidskraft. Dette gir en maksimal økning i produksjon på:"
   ]
  },
  {
   "cell_type": "code",
   "execution_count": 11,
   "id": "ad6a565f-0f9c-44b2-a17e-b50d3242ea0a",
   "metadata": {},
   "outputs": [
    {
     "data": {
      "text/latex": [
       "$\\displaystyle 171.57287525381$"
      ],
      "text/plain": [
       "171.572875253810"
      ]
     },
     "execution_count": 11,
     "metadata": {},
     "output_type": "execute_result"
    }
   ],
   "source": [
    "increase(sp,float(sol))"
   ]
  },
  {
   "cell_type": "markdown",
   "id": "65d8b801-cf79-4e21-9cc0-ca50ab0641d8",
   "metadata": {},
   "source": [
    "### 3. Produksjon på lang sikt\n",
    "\n",
    "På lang sikt kan bedriften variere begge (alle) produksjonsfaktorer. Vi kan beregne grenseproduktiviteten til begge faktorene:\n",
    "$$\\frac{\\partial x}{\\partial N}=f'_N > 0\\;,\\frac{\\partial x}{\\partial K}=f'_K > 0.$$\n",
    "\n",
    "Produktfunksjonen viser sammenhengen mellom tre variabler (enheter ferdigprodukt, kapital og arbeidskraft). For å kunne tegne denne funksjonen i to dimensjoner må vi fastsette en verdi for én av variablene. Vi setter en fast verdi $x_0$ på produksjon og skriver\n",
    "$$x_0 = f(N,K)\\tag{2}$$\n",
    "\n",
    "Likning (2) viser kombinasjoner av N og K som kan brukes for å produsere nøyaktig $x_0$ enheter ferdig produkt. Dette er med andre ord en produksjonsisokvant. Se Figur 4.3.       \n",
    "La $dx_0, dN, dK$ angi små endringer i våre tre variablene. Da kan vi skrive et uttrykk for hvordan produksjonen endrer seg når vi endrer bruk av innsatsfaktorene:\n",
    "$$dx_0 = f'_N dN + f'_K dK\\tag{3}$$\n",
    "\n",
    "Langs en isokvant er kvantum uendret slik at $dx_0=0$ og (3) skrives\n",
    "$$ f'_K dK= -f'_N dN \\Rightarrow \\frac{dK}{dN}=\\frac{-f'_N}{f'_K} = MTSB.$$\n",
    "MTSB er den marginale tekniske substitusjonsbrøken, og dette er helningen til isokvanten. Se Figur 4.4. Tenk at $f'_N =0.9, f'_K=0.3$, slik at $MTSB =\\frac{-0.9}{0.3}=-3$. Dette betyr at dersom bedriften vil øke bruken av arbeidskraft med 1 enhet, må den samtidig redusere bruken av kapital med 3 enheter for å holde produksjonen konstant.\n"
   ]
  },
  {
   "cell_type": "markdown",
   "id": "10909dc6-24ad-4ddf-af53-9d5d7599c4a7",
   "metadata": {},
   "source": [
    "#### 3.1 Et eksempel\n",
    "\n",
    "En bedrift bruker følgende produktfunksjon til å lage et gode\n",
    "\n",
    "\n",
    "\\begin{equation}\n",
    "   x = f(N,K)=N^sK^{1-s}\n",
    "\\end{equation}\n",
    "\n",
    "\n",
    "hvor $x$ er enheter ferdigprodukt, $N$ er enheter arbeidskraft (målt i timer), $K$ er enheter kapital og $1>  s>0$ er et konstant tall.      \n",
    "Vi skal beregne grenseproduktivitetene og MTSB for denne funksjonen."
   ]
  },
  {
   "cell_type": "code",
   "execution_count": 19,
   "id": "c5df8ddc-6e5b-4815-936c-e4aacb81e310",
   "metadata": {},
   "outputs": [
    {
     "data": {
      "text/latex": [
       "$\\displaystyle K^{1 - s} N^{s}$"
      ],
      "text/plain": [
       "K**(1 - s)*N**s"
      ]
     },
     "execution_count": 19,
     "metadata": {},
     "output_type": "execute_result"
    }
   ],
   "source": [
    "# definer nye symboler\n",
    "K, s = sp.symbols('K s', positive=True, real=True)\n",
    "\n",
    "# definer ny produksjonsfn (Cobb-Douglas)\n",
    "def prod_cd(N,K,s):\n",
    "    return N**s*K**(1-s)\n",
    "prod_cd(N,K,s)\n",
    "\n"
   ]
  },
  {
   "cell_type": "code",
   "execution_count": 20,
   "id": "081342b9-215b-4520-ab2c-a5e84ee6fa9f",
   "metadata": {},
   "outputs": [
    {
     "data": {
      "text/latex": [
       "$\\displaystyle K^{1 - s} N^{s - 1} s$"
      ],
      "text/plain": [
       "K**(1 - s)*N**(s - 1)*s"
      ]
     },
     "execution_count": 20,
     "metadata": {},
     "output_type": "execute_result"
    }
   ],
   "source": [
    "# grenseproduktivitet til N\n",
    "mp_N=sp.simplify(sp.diff(prod_cd(N,K,s),N))\n",
    "mp_N"
   ]
  },
  {
   "cell_type": "code",
   "execution_count": 21,
   "id": "98adb618-1b18-4e81-b729-be10ac8da33c",
   "metadata": {},
   "outputs": [
    {
     "data": {
      "text/latex": [
       "$\\displaystyle \\left(\\frac{N}{K}\\right)^{s} \\left(1 - s\\right)$"
      ],
      "text/plain": [
       "(N/K)**s*(1 - s)"
      ]
     },
     "execution_count": 21,
     "metadata": {},
     "output_type": "execute_result"
    }
   ],
   "source": [
    "# grenseproduktivitet til K\n",
    "mp_K=sp.simplify(sp.diff(prod_cd(N,K,s),K))\n",
    "mp_K"
   ]
  },
  {
   "cell_type": "code",
   "execution_count": 22,
   "id": "a8aa41d2-1d88-4a65-bf11-3b1918dd2ab7",
   "metadata": {},
   "outputs": [
    {
     "data": {
      "text/latex": [
       "$\\displaystyle \\frac{K s}{N \\left(s - 1\\right)}$"
      ],
      "text/plain": [
       "K*s/(N*(s - 1))"
      ]
     },
     "execution_count": 22,
     "metadata": {},
     "output_type": "execute_result"
    }
   ],
   "source": [
    "# beregn MTSB\n",
    "MTSB=sp.simplify(-mp_N/mp_K)\n",
    "MTSB"
   ]
  },
  {
   "cell_type": "markdown",
   "id": "3146e4f3-c647-4500-880e-a96a8ee4be7b",
   "metadata": {},
   "source": [
    "Da har vi funnet $MTSB=-\\frac{K}{N}\\frac{s}{1-s}$.   \n",
    "\n",
    "Her ser vi at det er to forhold som er viktig for MTSB: (i) $\\frac{K}{N}$, (ii) $\\frac{s}{1-s}$. Vi forventer at MTSB blir et stort negativt tall når vi bruker mye kapital i forhold til arbeidskraft, og når s er stor i forhold til 1-s. (**Hvorfor?**).      \n",
    "\n",
    "Det er nyttig å ha et mål for hvor mye produksjonen øker når vi øker bruk av en innsatsfaktor, og et slikt mål er spesielt nyttig dersom den er uavhengig av måleenhetene. Dette får oss til å tenke på prosentvise endringer, og dermed elastisiteter. Hvor mange prosent økes mengde produsert dersom vi øker bruk av innsatsfaktor \"i\" med 1%? Vi kan anvende elastistitetsformelen som vi har utledet tidligere.\n",
    "$$\\epsilon_N=\\frac{\\partial x}{\\partial N}\\frac{N}{x}=f'_N\\frac{N}{x}\\;,\\epsilon_K=\\frac{\\partial x}{\\partial K}\\frac{K}{x}=f'_K\\frac{K}{x}.$$\n",
    "\n",
    "**Oppgave**        \n",
    "*Regn ut disse elastisitetene for produktfunksjonen i dette avsnittet.*"
   ]
  },
  {
   "cell_type": "code",
   "execution_count": 24,
   "id": "b0f18ddc-1cd1-4754-8117-f2cca85d57bb",
   "metadata": {},
   "outputs": [],
   "source": [
    "# skriv ditt svar her\n",
    "\n",
    "e_N = sp.simplify(mp_N * N/ prod_cd(N, K, s))\n",
    "e_K = sp.simplify(mp_K * N/ prod_cd(N, K, s))"
   ]
  },
  {
   "cell_type": "markdown",
   "id": "c8289053-57ab-494c-b3a1-a7e4c75eb82e",
   "metadata": {},
   "source": [
    "Vi kan tegne en isokvant. La oss anta $x_0=5$, dvs vi skal tegne isokvanten for 5 enheter produkt."
   ]
  },
  {
   "cell_type": "code",
   "execution_count": 19,
   "id": "f538e941-9084-4c2a-b59d-2b16d4972859",
   "metadata": {},
   "outputs": [
    {
     "data": {
      "text/latex": [
       "$\\displaystyle 5^{- \\frac{1}{s - 1}} N^{\\frac{s}{s - 1}}$"
      ],
      "text/plain": [
       "N**(s/(s - 1))/5**(1/(s - 1))"
      ]
     },
     "execution_count": 19,
     "metadata": {},
     "output_type": "execute_result"
    }
   ],
   "source": [
    "# Vi må løse isokvanten slik at det står K= .....\n",
    "\n",
    "iso_5=sp.solve(prod_cd(N,K,s)-5,K)[0]\n",
    "iso_5"
   ]
  },
  {
   "cell_type": "markdown",
   "id": "42db5f43-841d-4859-a8ae-06c1241785fd",
   "metadata": {},
   "source": [
    "Likningen som beskriver isokvanten er da $K=5^{\\frac{-1}{s-1}}N^{\\frac{s}{s-1}}$. (Dette kan skrives på en enklere måte). For å tegne i matplotlib kan vi lage sympy om til numpy:"
   ]
  },
  {
   "cell_type": "code",
   "execution_count": 20,
   "id": "fd2e60d0-c31c-4145-86ec-3c70d4ad44e6",
   "metadata": {},
   "outputs": [
    {
     "data": {
      "text/latex": [
       "$\\displaystyle 5^{- \\frac{1}{s - 1}} N^{\\frac{s}{s - 1}}$"
      ],
      "text/plain": [
       "N**(s/(s - 1))/5**(1/(s - 1))"
      ]
     },
     "execution_count": 20,
     "metadata": {},
     "output_type": "execute_result"
    }
   ],
   "source": [
    "\n",
    "iso_5_fn=sp.lambdify((N,s), iso_5)\n",
    "iso_5_fn(N,s)"
   ]
  },
  {
   "cell_type": "code",
   "execution_count": 24,
   "id": "c7e03bde-bd1e-4a2f-a29c-62691a32a95d",
   "metadata": {},
   "outputs": [
    {
     "data": {
      "image/png": "[encoded data removed]",
      "text/plain": [
       "<Figure size 432x288 with 1 Axes>"
      ]
     },
     "metadata": {
      "needs_background": "light"
     },
     "output_type": "display_data"
    }
   ],
   "source": [
    "# La oss tegne dette for s=0.5 og s=0.2\n",
    "\n",
    "fig2, ax = plt.subplots()\n",
    "ax.set_ylabel('Kapital (K)', loc='top')\n",
    "ax.set_xlabel('Arbeidskraft (N)', loc='right')\n",
    "ax.set(xlim=(1,10))\n",
    "ax.set(ylim=(0,10))\n",
    "ax.spines['top'].set_color('none')\n",
    "ax.spines['right'].set_color('none')\n",
    "                \n",
    "\n",
    "# plott funksjonen\n",
    "\n",
    "ax.plot(n, iso_5_fn(n,0.5), label='produktfn (s=0.5)')\n",
    "ax.plot(n, iso_5_fn(n,0.2), label='produktfn (s=0.2)')\n",
    "\n",
    "\n",
    "# tittel\n",
    "ax.set_title('Produksjonsisokvanter (5 enheter)')\n",
    "\n",
    "#vis navnene:\n",
    "ax.legend(loc='best',frameon=False);"
   ]
  },
  {
   "cell_type": "markdown",
   "id": "e1a6d21f-89a5-4b3d-85cf-a50fc7ca6261",
   "metadata": {},
   "source": [
    "### 4. Ulik grad av teknisk substitusjon\n",
    "\n",
    "I det forrige eksempelet var graden av substituerbarhet mellom faktorene avhengig av hvor mye kapital og arbeidskraft som er i bruk. Dette er å betrakte som det vanligste tilfellet. Vi har to ytterpunkter som er ellers gitt i Fig 4.6 og 4.7 i boka."
   ]
  }
 ],
 "metadata": {
  "kernelspec": {
   "display_name": "Python 3",
   "language": "python",
   "name": "python3"
  },
  "language_info": {
   "codemirror_mode": {
    "name": "ipython",
    "version": 3
   },
   "file_extension": ".py",
   "mimetype": "text/x-python",
   "name": "python",
   "nbconvert_exporter": "python",
   "pygments_lexer": "ipython3",
   "version": "3.10.10"
  },
  "vscode": {
   "interpreter": {
    "hash": "7e1998ff7f8aa20ada591c520b972326324e5ea05489af9e422744c7c09f6dad"
   }
  }
 },
 "nbformat": 4,
 "nbformat_minor": 5
}
