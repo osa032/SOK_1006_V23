{
 "cells": [
  {
   "cell_type": "code",
   "execution_count": 2,
   "metadata": {},
   "outputs": [],
   "source": [
    "#Importerer pakker\n",
    "import numpy as np\n",
    "from matplotlib import pyplot as plt\n",
    "import sympy as sp"
   ]
  },
  {
   "cell_type": "code",
   "execution_count": 16,
   "metadata": {},
   "outputs": [
    {
     "data": {
      "text/latex": [
       "$\\displaystyle \\frac{K e^{N}}{A + e^{N}}$"
      ],
      "text/plain": [
       "K*exp(N)/(A + exp(N))"
      ]
     },
     "metadata": {},
     "output_type": "display_data"
    },
    {
     "data": {
      "text/latex": [
       "$\\displaystyle \\frac{K e^{N}}{A + e^{N}} - \\frac{K e^{2 N}}{\\left(A + e^{N}\\right)^{2}}$"
      ],
      "text/plain": [
       "K*exp(N)/(A + exp(N)) - K*exp(2*N)/(A + exp(N))**2"
      ]
     },
     "metadata": {},
     "output_type": "display_data"
    },
    {
     "data": {
      "text/latex": [
       "$\\displaystyle \\frac{K e^{N}}{N \\left(A + e^{N}\\right)}$"
      ],
      "text/plain": [
       "K*exp(N)/(N*(A + exp(N)))"
      ]
     },
     "metadata": {},
     "output_type": "display_data"
    }
   ],
   "source": [
    "#Definerer symboler\n",
    "K, N, A = sp.symbols('K N A', positive=True, real=True)\n",
    "\n",
    "#Definerer produktfunksjon\n",
    "def prod(K, N, A):\n",
    "    return K*(sp.exp(N)/(A+sp.exp(N)))\n",
    "\n",
    "#Finner den deriverte med hensyn til N (timer arbeid)\n",
    "def prod_der(K, N, A):\n",
    "    return sp.diff(prod(K, N, A), N)\n",
    "\n",
    "#Funksjon for gjennomsnittsproduktivitet\n",
    "def prod_mean(K, N, A):\n",
    "    return prod(K, N, A)/N\n",
    "\n",
    "display(prod(K, N, A), prod_der(K, N, A), prod_mean(K, N, A))"
   ]
  },
  {
   "cell_type": "code",
   "execution_count": 19,
   "metadata": {},
   "outputs": [],
   "source": [
    "#time to lambdify\n",
    "\n",
    "prod_lam = sp.lambdify(\n",
    "    (K, N, A), \n",
    "    prod(K, N, A)\n",
    ")\n",
    "\n",
    "prod_der_l = sp.lambdify(\n",
    "    (K, N, A), \n",
    "    prod_der(K, N, A)\n",
    ")\n",
    "\n",
    "prod_mean_l = sp.lambdify(\n",
    "    (K, N, A), \n",
    "    prod_mean(K, N, A)\n",
    ")"
   ]
  },
  {
   "cell_type": "code",
   "execution_count": 20,
   "metadata": {},
   "outputs": [
    {
     "data": {
      "image/png": "[encoded data removed]",
      "text/plain": [
       "<Figure size 640x480 with 1 Axes>"
      ]
     },
     "metadata": {},
     "output_type": "display_data"
    }
   ],
   "source": [
    "#Genererer akse, kode hentet fra \"notater forelesning 7\"\n",
    "\n",
    "n=np.linspace(1,10,100)\n",
    "\n",
    "fig, ax = plt.subplots()\n",
    "ax.set_ylabel('Kvantum (x)', loc='top')\n",
    "ax.set_xlabel('Enheter arbeidskraft (N)', loc='right')\n",
    "ax.set(xlim=(1,10))\n",
    "ax.set(ylim=(0,1000))\n",
    "ax.spines['top'].set_color('none')\n",
    "ax.spines['right'].set_color('none')\n",
    "\n",
    "\n",
    "#legger til linjer\n",
    "ax.plot(n, prod_lam(n, 200, 1000), label=\"Prod\")\n",
    "ax.plot(n, prod_der_l(n, 200, 1000), label=\"Grense\")\n",
    "ax.plot(n, prod_mean_l(n, 200, 1000), label=\"Gjennomsnitt\")\n",
    "\n",
    "ax.legend(loc='best',frameon=False);"
   ]
  },
  {
   "cell_type": "code",
   "execution_count": 7,
   "metadata": {},
   "outputs": [
    {
     "data": {
      "text/plain": [
       "0.0"
      ]
     },
     "execution_count": 7,
     "metadata": {},
     "output_type": "execute_result"
    }
   ],
   "source": [
    "np.max(prod_der_l(n, 200, 1000))"
   ]
  }
 ],
 "metadata": {
  "kernelspec": {
   "display_name": "Python 3",
   "language": "python",
   "name": "python3"
  },
  "language_info": {
   "codemirror_mode": {
    "name": "ipython",
    "version": 3
   },
   "file_extension": ".py",
   "mimetype": "text/x-python",
   "name": "python",
   "nbconvert_exporter": "python",
   "pygments_lexer": "ipython3",
   "version": "3.10.10"
  },
  "orig_nbformat": 4,
  "vscode": {
   "interpreter": {
    "hash": "7e1998ff7f8aa20ada591c520b972326324e5ea05489af9e422744c7c09f6dad"
   }
  }
 },
 "nbformat": 4,
 "nbformat_minor": 2
}
